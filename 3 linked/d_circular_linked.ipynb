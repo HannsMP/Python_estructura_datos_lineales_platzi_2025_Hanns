{
 "cells": [
  {
   "cell_type": "code",
   "execution_count": 8,
   "metadata": {},
   "outputs": [],
   "source": [
    "from structures_node import CircularLinked"
   ]
  },
  {
   "cell_type": "code",
   "execution_count": 9,
   "metadata": {},
   "outputs": [],
   "source": [
    "ruleta = CircularLinked()\n",
    "\n",
    "ruleta.apend('A')\n",
    "ruleta.apend('B')\n",
    "ruleta.apend('C')\n",
    "ruleta.apend('D')\n",
    "ruleta.apend('E')\n",
    "ruleta.apend('F')\n",
    "ruleta.apend('G')\n",
    "ruleta.apend('H')\n",
    "ruleta.apend('I')"
   ]
  },
  {
   "cell_type": "code",
   "execution_count": 10,
   "metadata": {},
   "outputs": [
    {
     "data": {
      "text/plain": [
       "<CircularLinked(9)>"
      ]
     },
     "execution_count": 10,
     "metadata": {},
     "output_type": "execute_result"
    }
   ],
   "source": [
    "ruleta"
   ]
  },
  {
   "cell_type": "code",
   "execution_count": 11,
   "metadata": {},
   "outputs": [
    {
     "name": "stdout",
     "output_type": "stream",
     "text": [
      "I\n",
      "H\n",
      "G\n",
      "F\n",
      "E\n",
      "D\n",
      "C\n",
      "B\n",
      "A\n"
     ]
    }
   ],
   "source": [
    "for silla in ruleta.iter_child():\n",
    "  print(silla.data)"
   ]
  },
  {
   "cell_type": "code",
   "execution_count": 12,
   "metadata": {},
   "outputs": [
    {
     "name": "stdout",
     "output_type": "stream",
     "text": [
      "A\n",
      "B\n",
      "C\n",
      "D\n",
      "E\n",
      "F\n",
      "G\n",
      "H\n",
      "I\n"
     ]
    }
   ],
   "source": [
    "for silla in ruleta.iter_parent():\n",
    "  print(silla.data)"
   ]
  },
  {
   "cell_type": "code",
   "execution_count": 13,
   "metadata": {},
   "outputs": [
    {
     "name": "stdout",
     "output_type": "stream",
     "text": [
      "┌┬▸I\n",
      "│├▸H\n",
      "│├▸G\n",
      "│├▸F\n",
      "│├▸E\n",
      "│├▸D\n",
      "│├▸C\n",
      "│├▸B\n",
      "│├▸A\n",
      "└┘\n"
     ]
    }
   ],
   "source": [
    "print(ruleta)"
   ]
  }
 ],
 "metadata": {
  "kernelspec": {
   "display_name": "Python 3",
   "language": "python",
   "name": "python3"
  },
  "language_info": {
   "codemirror_mode": {
    "name": "ipython",
    "version": 3
   },
   "file_extension": ".py",
   "mimetype": "text/x-python",
   "name": "python",
   "nbconvert_exporter": "python",
   "pygments_lexer": "ipython3",
   "version": "3.11.0"
  }
 },
 "nbformat": 4,
 "nbformat_minor": 2
}
