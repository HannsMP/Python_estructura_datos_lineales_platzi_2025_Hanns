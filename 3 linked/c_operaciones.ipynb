{
 "cells": [
  {
   "cell_type": "code",
   "execution_count": 1,
   "metadata": {},
   "outputs": [],
   "source": [
    "from structures_node import Node"
   ]
  },
  {
   "cell_type": "code",
   "execution_count": 2,
   "metadata": {},
   "outputs": [
    {
     "name": "stdout",
     "output_type": "stream",
     "text": [
      "Node(5) -> Node(4) -> Node(3) -> Node(2) -> Node(1) -> None\n"
     ]
    }
   ],
   "source": [
    "head = None\n",
    "for count in range(1, 6):\n",
    "  head = Node(count, head)\n",
    "\n",
    "# start = head\n",
    "\n",
    "# while head != None:\n",
    "#   print(head.data)\n",
    "#   head = head.child\n",
    "\n",
    "# head = start\n",
    "\n",
    "print(head)\n"
   ]
  },
  {
   "cell_type": "markdown",
   "metadata": {},
   "source": [
    "# iter"
   ]
  },
  {
   "cell_type": "markdown",
   "metadata": {},
   "source": [
    "probe es una variable temporal, para recorrer y explorar la informacion, tambien puede retornar informacion especifica. no es almacenada"
   ]
  },
  {
   "cell_type": "code",
   "execution_count": 3,
   "metadata": {},
   "outputs": [
    {
     "name": "stdout",
     "output_type": "stream",
     "text": [
      "5\n",
      "4\n",
      "3\n",
      "2\n",
      "1\n"
     ]
    }
   ],
   "source": [
    "probe = head\n",
    "\n",
    "while probe != None:\n",
    "  print(probe.data)\n",
    "  probe = probe.child"
   ]
  },
  {
   "cell_type": "code",
   "execution_count": 4,
   "metadata": {},
   "outputs": [
    {
     "name": "stdout",
     "output_type": "stream",
     "text": [
      "Node(5) -> Node(4) -> Node(3) -> Node(2) -> Node(1) -> None\n"
     ]
    }
   ],
   "source": [
    "print(head)"
   ]
  },
  {
   "cell_type": "markdown",
   "metadata": {},
   "source": [
    "# has"
   ]
  },
  {
   "cell_type": "code",
   "execution_count": 5,
   "metadata": {},
   "outputs": [
    {
     "name": "stdout",
     "output_type": "stream",
     "text": [
      "Target item 2 has been found\n"
     ]
    }
   ],
   "source": [
    "probe = head\n",
    "target_item = 2\n",
    "\n",
    "# busca y termina si es el valor buscado\n",
    "while probe != None and target_item != probe.data:\n",
    "  probe = probe.child\n",
    "\n",
    "if probe != None:\n",
    "  print(f\"Target item {target_item} has been found\")\n",
    "else:\n",
    "  print(f\"Target item {target_item} is not in the linked list\")"
   ]
  },
  {
   "cell_type": "code",
   "execution_count": 6,
   "metadata": {},
   "outputs": [
    {
     "name": "stdout",
     "output_type": "stream",
     "text": [
      "Node(5) -> Node(4) -> Node(3) -> Node(2) -> Node(1) -> None\n"
     ]
    }
   ],
   "source": [
    "print(head)"
   ]
  },
  {
   "cell_type": "markdown",
   "metadata": {},
   "source": [
    "# replace"
   ]
  },
  {
   "cell_type": "code",
   "execution_count": 7,
   "metadata": {},
   "outputs": [
    {
     "name": "stdout",
     "output_type": "stream",
     "text": [
      "Z replaced the old value in the node number 3\n"
     ]
    }
   ],
   "source": [
    "probe = head\n",
    "target_item = 3\n",
    "new_item = 'Z'\n",
    "\n",
    "while probe != None and target_item != probe.data:\n",
    "  probe = probe.child\n",
    "\n",
    "if probe != None:\n",
    "  probe.data = new_item\n",
    "  print(f\"{new_item} replaced the old value in the node number {target_item}\")\n",
    "else:\n",
    "  print(f\"the target item {target_item} is not in the linked list\")"
   ]
  },
  {
   "cell_type": "code",
   "execution_count": 8,
   "metadata": {},
   "outputs": [
    {
     "name": "stdout",
     "output_type": "stream",
     "text": [
      "Node(5) -> Node(4) -> Node(Z) -> Node(2) -> Node(1) -> None\n"
     ]
    }
   ],
   "source": [
    "print(head)"
   ]
  },
  {
   "cell_type": "markdown",
   "metadata": {},
   "source": [
    "# append_head"
   ]
  },
  {
   "cell_type": "code",
   "execution_count": 9,
   "metadata": {},
   "outputs": [],
   "source": [
    "head = Node(\"F\", head)"
   ]
  },
  {
   "cell_type": "code",
   "execution_count": 10,
   "metadata": {},
   "outputs": [
    {
     "name": "stdout",
     "output_type": "stream",
     "text": [
      "Node(F) -> Node(5) -> Node(4) -> Node(Z) -> Node(2) -> Node(1) -> None\n"
     ]
    }
   ],
   "source": [
    "print(head)"
   ]
  },
  {
   "cell_type": "markdown",
   "metadata": {},
   "source": [
    "# append_tail"
   ]
  },
  {
   "cell_type": "code",
   "execution_count": 11,
   "metadata": {},
   "outputs": [],
   "source": [
    "new_node = Node(\"K\")\n",
    "\n",
    "if head is None:\n",
    "  head = new_node\n",
    "else:\n",
    "  probe = head\n",
    "  \n",
    "  while probe.child != None:\n",
    "    probe = probe.child\n",
    "  \n",
    "  probe.child = new_node"
   ]
  },
  {
   "cell_type": "code",
   "execution_count": 12,
   "metadata": {},
   "outputs": [
    {
     "name": "stdout",
     "output_type": "stream",
     "text": [
      "Node(F) -> Node(5) -> Node(4) -> Node(Z) -> Node(2) -> Node(1) -> Node(K) -> None\n"
     ]
    }
   ],
   "source": [
    "print(head)"
   ]
  },
  {
   "cell_type": "markdown",
   "metadata": {},
   "source": [
    "# append_index"
   ]
  },
  {
   "cell_type": "code",
   "execution_count": 13,
   "metadata": {},
   "outputs": [],
   "source": [
    "new_item = 10\n",
    "index = 3\n",
    "\n",
    "if head is None or index < 0:\n",
    "  head = Node(new_node)\n",
    "else:\n",
    "  probe = head\n",
    "  while index > 1 and probe.child != None:\n",
    "    probe = probe.child\n",
    "    index -= 1\n",
    "  probe.child = Node(new_item, probe.child)"
   ]
  },
  {
   "cell_type": "code",
   "execution_count": 14,
   "metadata": {},
   "outputs": [
    {
     "name": "stdout",
     "output_type": "stream",
     "text": [
      "Node(F) -> Node(5) -> Node(4) -> Node(10) -> Node(Z) -> Node(2) -> Node(1) -> Node(K) -> None\n"
     ]
    }
   ],
   "source": [
    "print(head)"
   ]
  },
  {
   "cell_type": "markdown",
   "metadata": {},
   "source": [
    "# remove_start"
   ]
  },
  {
   "cell_type": "code",
   "execution_count": 15,
   "metadata": {},
   "outputs": [
    {
     "name": "stdout",
     "output_type": "stream",
     "text": [
      "F\n"
     ]
    }
   ],
   "source": [
    "remove_item = head.data\n",
    "head = head.child\n",
    "\n",
    "print(remove_item)"
   ]
  },
  {
   "cell_type": "code",
   "execution_count": 16,
   "metadata": {},
   "outputs": [
    {
     "name": "stdout",
     "output_type": "stream",
     "text": [
      "Node(5) -> Node(4) -> Node(10) -> Node(Z) -> Node(2) -> Node(1) -> Node(K) -> None\n"
     ]
    }
   ],
   "source": [
    "print(head)"
   ]
  },
  {
   "cell_type": "markdown",
   "metadata": {},
   "source": [
    "# remove_end"
   ]
  },
  {
   "cell_type": "code",
   "execution_count": 17,
   "metadata": {},
   "outputs": [
    {
     "name": "stdout",
     "output_type": "stream",
     "text": [
      "K\n"
     ]
    }
   ],
   "source": [
    "removed_item = head.data\n",
    "if head.child is None:\n",
    "  head = None\n",
    "else:\n",
    "  probe = head\n",
    "  while probe.child.child != None:\n",
    "    probe = probe.child\n",
    "\n",
    "  removed_item = probe.child.data\n",
    "  probe.child = None\n",
    "\n",
    "print(removed_item)"
   ]
  },
  {
   "cell_type": "code",
   "execution_count": 18,
   "metadata": {},
   "outputs": [
    {
     "name": "stdout",
     "output_type": "stream",
     "text": [
      "Node(5) -> Node(4) -> Node(10) -> Node(Z) -> Node(2) -> Node(1) -> None\n"
     ]
    }
   ],
   "source": [
    "print(head)"
   ]
  },
  {
   "cell_type": "markdown",
   "metadata": {},
   "source": [
    "# remove_index"
   ]
  },
  {
   "cell_type": "code",
   "execution_count": 19,
   "metadata": {},
   "outputs": [
    {
     "name": "stdout",
     "output_type": "stream",
     "text": [
      "Z\n"
     ]
    }
   ],
   "source": [
    "index = 3\n",
    "\n",
    "if index <= 0 or head.child is None:\n",
    "  remove_item = head.data\n",
    "  head = head.child\n",
    "  print(remove_item)\n",
    "else:\n",
    "  probe = head\n",
    "  while index > 1 and probe.child.child != None:\n",
    "    probe = probe.child\n",
    "    index -= 1\n",
    "  \n",
    "  removed_item = probe.child.data\n",
    "  probe.child = probe.child.child\n",
    "  print(removed_item)"
   ]
  },
  {
   "cell_type": "code",
   "execution_count": 20,
   "metadata": {},
   "outputs": [
    {
     "name": "stdout",
     "output_type": "stream",
     "text": [
      "Node(5) -> Node(4) -> Node(10) -> Node(2) -> Node(1) -> None\n"
     ]
    }
   ],
   "source": [
    "print(head)"
   ]
  }
 ],
 "metadata": {
  "kernelspec": {
   "display_name": "Python 3",
   "language": "python",
   "name": "python3"
  },
  "language_info": {
   "codemirror_mode": {
    "name": "ipython",
    "version": 3
   },
   "file_extension": ".py",
   "mimetype": "text/x-python",
   "name": "python",
   "nbconvert_exporter": "python",
   "pygments_lexer": "ipython3",
   "version": "3.11.0"
  }
 },
 "nbformat": 4,
 "nbformat_minor": 2
}
