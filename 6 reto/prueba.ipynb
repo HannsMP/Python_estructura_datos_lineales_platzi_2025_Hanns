{
 "cells": [
  {
   "cell_type": "markdown",
   "metadata": {},
   "source": [
    "- utilizar queues\n",
    "- hay metodos para\n",
    "  añadir canciones\n",
    "  reproducirlas\n",
    "- se reproducen las canciones en el orden añadido"
   ]
  },
  {
   "cell_type": "code",
   "execution_count": 1,
   "metadata": {},
   "outputs": [],
   "source": [
    "from time import sleep"
   ]
  },
  {
   "cell_type": "code",
   "execution_count": 2,
   "metadata": {},
   "outputs": [],
   "source": [
    "class Node:\n",
    "  def __init__(self, data, child=None, parent=None):\n",
    "    self.data = data\n",
    "    self.child:Node = child\n",
    "    self.parent:Node = parent\n",
    "\n",
    "  def __repr__(self):\n",
    "    if isinstance(self.child, Node):\n",
    "      return f\"<Node({self.data}) {hex(id(self))}> -> Node({self.child.data})\"\n",
    "    else:\n",
    "      return f\"<Node({self.data}) {hex(id(self))}> -> {self.child}\"\n",
    "    \n",
    "  def __str__(self):\n",
    "    if isinstance(self.child, Node):\n",
    "      return f\"Node({self.data}) -> {self.child.__str__()}\"\n",
    "    else:\n",
    "      return f\"Node({self.data}) -> {self.child}\"\n",
    "\n",
    "  def link_child(self, node):\n",
    "    \"\"\" \n",
    "      tanto mi nodo hijo como tu nodo padre se relacionaran\n",
    "    \"\"\"\n",
    "    self.child = node\n",
    "    node.parent = self\n",
    "\n",
    "  def link_parent(self, node):\n",
    "    \"\"\" \n",
    "      tanto mi nodo padre como tu nodo hijo se relacionaran\n",
    "    \"\"\"\n",
    "    self.parent = node\n",
    "    node.child = self\n",
    "\n",
    "  def unlink_child(self):\n",
    "    \"\"\" \n",
    "      tanto mi nodo padre como tu nodo hijo, rompen relacion y te lo devuelvo\n",
    "    \"\"\"\n",
    "    child = self.child\n",
    "    child.parent = None\n",
    "    self.child = None\n",
    "    return child\n",
    "\n",
    "  def unlink_parent(self):\n",
    "    \"\"\" \n",
    "      tanto mi nodo padre como tu nodo hijo, rompen relacion y te lo devuelvo\n",
    "    \"\"\"\n",
    "    parent = self.parent\n",
    "    parent.child = None\n",
    "    self.parent = None\n",
    "    return parent\n"
   ]
  },
  {
   "cell_type": "code",
   "execution_count": 3,
   "metadata": {},
   "outputs": [],
   "source": [
    "class Queue:\n",
    "  def __init__(self):\n",
    "    self.front:Node = None #head\n",
    "    self.rear:Node = None #tail\n",
    "    self.size = 0\n",
    "\n",
    "  def __repr__(self):\n",
    "    return f\"<Queue({self.size}) {hex(id(self))}>\"\n",
    "  \n",
    "  def __str__(self):\n",
    "    if self.front:\n",
    "      return self.front.__str__()\n",
    "    else:\n",
    "      return \"None\"\n",
    "  \n",
    "  def __iter__(self):\n",
    "    probe = self.front\n",
    "\n",
    "    while probe:\n",
    "      yield probe\n",
    "      probe = probe.child\n",
    "\n",
    "  def is_empty(self):\n",
    "    return not(self.front and self.size > 0)\n",
    "\n",
    "  def enqueue(self, data):\n",
    "    \"\"\" \n",
    "      agrego un nuevo elemento al final de la queue\n",
    "    \"\"\"\n",
    "    new_node = Node(data)\n",
    "\n",
    "    if self.rear:\n",
    "      self.rear.link_child(new_node)\n",
    "    else:\n",
    "      self.front = self.rear = new_node\n",
    "\n",
    "    self.rear = new_node\n",
    "    self.size += 1\n",
    "  \n",
    "  def dequeue(self):\n",
    "    \"\"\" \n",
    "      devuelvo el primer elemento agregado\n",
    "    \"\"\"\n",
    "    if self.front == None:\n",
    "      return None\n",
    "    \n",
    "    remove_item = self.front\n",
    "    \n",
    "    if remove_item.child:\n",
    "      self.front = remove_item.unlink_child()\n",
    "    else:\n",
    "      self.front = self.rear = None\n",
    " \n",
    "    self.size -= 1\n",
    "    return remove_item.data"
   ]
  },
  {
   "cell_type": "code",
   "execution_count": 4,
   "metadata": {},
   "outputs": [],
   "source": [
    "class Song:\n",
    "  def __init__(self, name:str, time:int=0):\n",
    "    self.name = name\n",
    "    self.time = time\n",
    "\n",
    "  def __repr__(self):\n",
    "    return f\"<Song({self.name}) {hex(id(self))}>\"\n",
    "  \n",
    "  def __str__(self):\n",
    "    return f\"cancion: {self.name}\\n  tiempo: {self.time} s\"\n",
    "  \n",
    "  def minutes(self):\n",
    "    minutos = self.time // 60\n",
    "    segundos_restantes = self.time % 60\n",
    "    return minutos, segundos_restantes"
   ]
  },
  {
   "cell_type": "code",
   "execution_count": 5,
   "metadata": {},
   "outputs": [],
   "source": [
    "playlist = Queue()\n",
    "\n",
    "playlist.enqueue(Song('Sebastián Yatra, Dalmata - Sutra', 3*60 + 36))\n",
    "playlist.enqueue(Song('Sebastián Yatra - Traicionera', 4*60 + 2))\n",
    "playlist.enqueue(Song('Reik, Maluma - Amigos Con Derechos', 4*60 + 49))\n",
    "playlist.enqueue(Song('Cali Y El Dandee - Por Fin Te Encontré ft. Juan Magan, Sebastian Yatra', 4*60 + 43))\n",
    "playlist.enqueue(Song('Joey Montana - Moribundo ft. De La Ghetto', 4*60 + 5))"
   ]
  },
  {
   "cell_type": "code",
   "execution_count": null,
   "metadata": {},
   "outputs": [
    {
     "name": "stdout",
     "output_type": "stream",
     "text": [
      "Reproduciendo(3m 36s): Sebastián Yatra, Dalmata - Sutra\n"
     ]
    }
   ],
   "source": [
    "def play():\n",
    "  while not playlist.is_empty():\n",
    "    song:Song = playlist.dequeue()\n",
    "    min, seg = song.minutes()\n",
    "    print(f\"Reproduciendo({min}m {seg}s): {song.name}\")\n",
    "    sleep(song.time)\n",
    "\n",
    "play()"
   ]
  }
 ],
 "metadata": {
  "kernelspec": {
   "display_name": "Python 3",
   "language": "python",
   "name": "python3"
  },
  "language_info": {
   "codemirror_mode": {
    "name": "ipython",
    "version": 3
   },
   "file_extension": ".py",
   "mimetype": "text/x-python",
   "name": "python",
   "nbconvert_exporter": "python",
   "pygments_lexer": "ipython3",
   "version": "3.11.0"
  }
 },
 "nbformat": 4,
 "nbformat_minor": 2
}
