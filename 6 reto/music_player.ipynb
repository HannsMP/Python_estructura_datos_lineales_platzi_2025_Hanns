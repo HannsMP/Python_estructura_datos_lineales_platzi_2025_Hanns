{
 "cells": [
  {
   "cell_type": "code",
   "execution_count": 1,
   "metadata": {},
   "outputs": [],
   "source": [
    "import sys\n",
    "sys.path.append('..')"
   ]
  },
  {
   "cell_type": "code",
   "execution_count": 2,
   "metadata": {},
   "outputs": [],
   "source": [
    "from structures.node_based_queue import Queue\n",
    "from random import randint\n",
    "from time import sleep"
   ]
  },
  {
   "cell_type": "code",
   "execution_count": 3,
   "metadata": {},
   "outputs": [],
   "source": [
    "class Track:\n",
    "  def __init__(self, title=None):\n",
    "    self.title = title\n",
    "    self.length = randint(5, 6)"
   ]
  },
  {
   "cell_type": "code",
   "execution_count": 4,
   "metadata": {},
   "outputs": [],
   "source": [
    "class MediaPlayerQueue(Queue):\n",
    "  def __init__(self):\n",
    "    super(MediaPlayerQueue, self).__init__()\n",
    "\n",
    "  def add_track(self, track):\n",
    "    self.enqueue(track)\n",
    "\n",
    "  def play(self):\n",
    "    print(f\"count: {self.count}\")\n",
    "    while self.count > 0 and self.head is not None:\n",
    "      current_track_node = self.dequeue()\n",
    "      print(f\"Now playing {current_track_node.data.title}.\")\n",
    "\n",
    "      sleep(current_track_node.data.length)"
   ]
  },
  {
   "cell_type": "code",
   "execution_count": 5,
   "metadata": {},
   "outputs": [
    {
     "name": "stdout",
     "output_type": "stream",
     "text": [
      "count: 5\n"
     ]
    },
    {
     "ename": "AttributeError",
     "evalue": "'Track' object has no attribute 'data'",
     "output_type": "error",
     "traceback": [
      "\u001b[1;31m---------------------------------------------------------------------------\u001b[0m",
      "\u001b[1;31mAttributeError\u001b[0m                            Traceback (most recent call last)",
      "Cell \u001b[1;32mIn[5], line 18\u001b[0m\n\u001b[0;32m     16\u001b[0m media_player\u001b[38;5;241m.\u001b[39madd_track(track4)\n\u001b[0;32m     17\u001b[0m media_player\u001b[38;5;241m.\u001b[39madd_track(track5)\n\u001b[1;32m---> 18\u001b[0m \u001b[43mmedia_player\u001b[49m\u001b[38;5;241;43m.\u001b[39;49m\u001b[43mplay\u001b[49m\u001b[43m(\u001b[49m\u001b[43m)\u001b[49m\n",
      "Cell \u001b[1;32mIn[4], line 12\u001b[0m, in \u001b[0;36mMediaPlayerQueue.play\u001b[1;34m(self)\u001b[0m\n\u001b[0;32m     10\u001b[0m \u001b[38;5;28;01mwhile\u001b[39;00m \u001b[38;5;28mself\u001b[39m\u001b[38;5;241m.\u001b[39mcount \u001b[38;5;241m>\u001b[39m \u001b[38;5;241m0\u001b[39m \u001b[38;5;129;01mand\u001b[39;00m \u001b[38;5;28mself\u001b[39m\u001b[38;5;241m.\u001b[39mhead \u001b[38;5;129;01mis\u001b[39;00m \u001b[38;5;129;01mnot\u001b[39;00m \u001b[38;5;28;01mNone\u001b[39;00m:\n\u001b[0;32m     11\u001b[0m   current_track_node \u001b[38;5;241m=\u001b[39m \u001b[38;5;28mself\u001b[39m\u001b[38;5;241m.\u001b[39mdequeue()\n\u001b[1;32m---> 12\u001b[0m   \u001b[38;5;28mprint\u001b[39m(\u001b[38;5;124mf\u001b[39m\u001b[38;5;124m\"\u001b[39m\u001b[38;5;124mNow playing \u001b[39m\u001b[38;5;132;01m{\u001b[39;00m\u001b[43mcurrent_track_node\u001b[49m\u001b[38;5;241;43m.\u001b[39;49m\u001b[43mdata\u001b[49m\u001b[38;5;241m.\u001b[39mtitle\u001b[38;5;132;01m}\u001b[39;00m\u001b[38;5;124m.\u001b[39m\u001b[38;5;124m\"\u001b[39m)\n\u001b[0;32m     14\u001b[0m   sleep(current_track_node\u001b[38;5;241m.\u001b[39mdata\u001b[38;5;241m.\u001b[39mlength)\n",
      "\u001b[1;31mAttributeError\u001b[0m: 'Track' object has no attribute 'data'"
     ]
    }
   ],
   "source": [
    "track1 = Track(\"white whistle\")\n",
    "track2 = Track(\"butter butter\")\n",
    "track3 = Track(\"Oh black star\")\n",
    "track4 = Track(\"Watch that chicken\")\n",
    "track5 = Track(\"Don't go\")\n",
    "\n",
    "\"\"\" print(track1.length)\n",
    "print(track2.length)\n",
    "print(track3.length) \"\"\"\n",
    "\n",
    "media_player = MediaPlayerQueue()\n",
    "\n",
    "media_player.add_track(track1)\n",
    "media_player.add_track(track2)\n",
    "media_player.add_track(track3)\n",
    "media_player.add_track(track4)\n",
    "media_player.add_track(track5)\n",
    "media_player.play()"
   ]
  }
 ],
 "metadata": {
  "kernelspec": {
   "display_name": "Python 3",
   "language": "python",
   "name": "python3"
  },
  "language_info": {
   "codemirror_mode": {
    "name": "ipython",
    "version": 3
   },
   "file_extension": ".py",
   "mimetype": "text/x-python",
   "name": "python",
   "nbconvert_exporter": "python",
   "pygments_lexer": "ipython3",
   "version": "3.11.0"
  }
 },
 "nbformat": 4,
 "nbformat_minor": 2
}
